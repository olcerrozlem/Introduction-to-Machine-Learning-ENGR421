{
 "cells": [
  {
   "cell_type": "markdown",
   "id": "44cbf4ec",
   "metadata": {},
   "source": [
    "# Homework 04\n",
    "## Özlem Ölçer ID: 69217"
   ]
  },
  {
   "cell_type": "code",
   "execution_count": 1,
   "id": "acd95b04",
   "metadata": {},
   "outputs": [],
   "source": [
    "import matplotlib.pyplot as plt\n",
    "import numpy as np\n",
    "import pandas as pd\n",
    "import scipy.stats as stats\n",
    "\n",
    "def safelog2(x):\n",
    "    if x == 0:\n",
    "        return(0)\n",
    "    else:\n",
    "        return(np.log2(x))"
   ]
  },
  {
   "cell_type": "markdown",
   "id": "b6f9219f",
   "metadata": {},
   "source": [
    "Importing Data"
   ]
  },
  {
   "cell_type": "code",
   "execution_count": 2,
   "id": "51fefeea",
   "metadata": {},
   "outputs": [],
   "source": [
    "data = np.genfromtxt(\"hw04_data_set.csv\", delimiter = \",\")\n",
    "D = data.shape[1] - 1\n",
    "N = data.shape[0]\n",
    "train_data = data[1:151,:] \n",
    "test_data = data[151:,:]\n",
    "\n",
    "X = data[:, 0:D]\n",
    "y = data[:, D:(D + 1)].astype(int)\n",
    "\n",
    "# get number of classes\n",
    "K = np.max(y[:, 0])\n",
    "\n",
    "X_train = train_data[:,0]\n",
    "y_train = train_data[:,1]\n",
    "\n",
    "X_test = test_data[:,0]\n",
    "y_test = test_data[:,1]\n",
    "\n",
    "\n",
    "\n",
    "N_train = len(y_train)\n",
    "N_test = len(y_test)\n",
    "\n"
   ]
  },
  {
   "cell_type": "markdown",
   "id": "d29df0ca",
   "metadata": {},
   "source": [
    "Initialization & Decision tree regression algorithm"
   ]
  },
  {
   "cell_type": "code",
   "execution_count": 3,
   "id": "79b77be0",
   "metadata": {},
   "outputs": [],
   "source": [
    "def learn_dt(P):\n",
    "    # create necessary data structures\n",
    "    node_indices = {}\n",
    "    is_terminal = {}\n",
    "    need_split = {}\n",
    "\n",
    "    node_features = {}\n",
    "    node_splits = {}\n",
    "    node_frequencies = {}\n",
    "\n",
    "    # put all training instances into the root node\n",
    "    node_indices[1] = np.array(range(N_train))\n",
    "    is_terminal[1] = False\n",
    "    need_split[1] = True\n",
    "\n",
    "    \n",
    "    # learning algorithm\n",
    "    while True:\n",
    "        # find nodes that need splitting\n",
    "        split_nodes = [key for key, value in need_split.items() if value == True]\n",
    "        \n",
    "        # check whether we reach all terminal nodes\n",
    "        if len(split_nodes) == 0:\n",
    "            break\n",
    "            \n",
    "        # find best split positions for all nodes\n",
    "        for split_node in split_nodes:\n",
    "            data_indices = node_indices[split_node]\n",
    "            need_split[split_node] = False\n",
    "            \n",
    "            if len(data_indices) <= P:\n",
    "                is_terminal[split_node] = True\n",
    "                node_frequencies[split_node] = np.mean(y_train[data_indices])\n",
    "            else:\n",
    "                is_terminal[split_node] = False\n",
    "                unique_values = np.sort(np.unique(X_train[data_indices]))\n",
    "                split_positions = (unique_values[1:] + unique_values[:-1]) / 2\n",
    "                split_scores = np.repeat(0.0, len(split_positions))\n",
    "                \n",
    "                for s in range(len(split_positions)):\n",
    "                    left_indices = data_indices[X_train[data_indices] > split_positions[s]]\n",
    "                    right_indices = data_indices[X_train[data_indices] <= split_positions[s]]\n",
    "\n",
    "                    split_scores[s] = (np.sum(((y_train[i] - np.mean(y_train[left_indices])) ** 2) for i in left_indices) +\n",
    "                        np.sum(((y_train[j] - np.mean(y_train[right_indices])) ** 2) for j in right_indices))/len(data_indices)\n",
    "                   \n",
    "                node_splits[split_node] = split_positions[np.argmin(split_scores)]\n",
    "            \n",
    "                \n",
    "                # Left Branch\n",
    "                left_indices = data_indices[X_train[data_indices] > node_splits[split_node]]\n",
    "                node_indices[2 * split_node] = left_indices\n",
    "                is_terminal[2 * split_node] = False\n",
    "                need_split[2 * split_node] = True\n",
    "\n",
    "                    # Right Branch\n",
    "                right_indices = data_indices[X_train[data_indices] <= node_splits[split_node]]\n",
    "                node_indices[2 * split_node + 1] = right_indices\n",
    "                is_terminal[2 * split_node + 1] = False\n",
    "                need_split[2 * split_node + 1] = True\n",
    "                \n",
    "    return is_terminal, node_splits, node_frequencies"
   ]
  },
  {
   "cell_type": "code",
   "execution_count": 4,
   "id": "232b7e2b",
   "metadata": {},
   "outputs": [],
   "source": [
    "def prediction(point, is_terminal, node_splits, node_frequencies):\n",
    "    iter = 1\n",
    "    while(not is_terminal[iter]):\n",
    "        if point > node_splits[iter]:\n",
    "            iter = 2 * iter\n",
    "        else:\n",
    "            iter = 2 * iter + 1\n",
    "    return node_frequencies[iter]"
   ]
  },
  {
   "cell_type": "code",
   "execution_count": 5,
   "id": "aa47b9d9",
   "metadata": {},
   "outputs": [
    {
     "name": "stderr",
     "output_type": "stream",
     "text": [
      "C:\\Users\\ozlemolcer\\AppData\\Local\\Temp\\ipykernel_5332\\3505434496.py:44: DeprecationWarning: Calling np.sum(generator) is deprecated, and in the future will give a different result. Use np.sum(np.fromiter(generator)) or the python sum builtin instead.\n",
      "  split_scores[s] = (np.sum(((y_train[i] - np.mean(y_train[left_indices])) ** 2) for i in left_indices) +\n",
      "C:\\Users\\ozlemolcer\\AppData\\Local\\Temp\\ipykernel_5332\\3505434496.py:45: DeprecationWarning: Calling np.sum(generator) is deprecated, and in the future will give a different result. Use np.sum(np.fromiter(generator)) or the python sum builtin instead.\n",
      "  np.sum(((y_train[j] - np.mean(y_train[right_indices])) ** 2) for j in right_indices))/len(data_indices)\n"
     ]
    },
    {
     "data": {
      "image/png": "[encoded data removed]",
      "text/plain": [
       "<Figure size 864x432 with 1 Axes>"
      ]
     },
     "metadata": {
      "needs_background": "light"
     },
     "output_type": "display_data"
    }
   ],
   "source": [
    "# Learn Decision Tree (Pre-Pruning Parameter = 25)\n",
    "is_terminal, node_splits, node_frequencies = learn_dt(25)\n",
    "# Plot Figures\n",
    "data_points = np.linspace(np.min(X_train), np.max(X_train), 10000)\n",
    "\n",
    "y_pred = [prediction(d, is_terminal, node_splits, node_frequencies) for d in data_points]\n",
    "\n",
    "\n",
    "\n",
    "## Test Plot\n",
    "plt.figure(figsize=(12, 6))\n",
    "plt.plot(X_train, y_train, \"b.\", markersize=15, label='training')\n",
    "plt.plot(X_test, y_test, \"r.\", markersize=15, label='test')\n",
    "plt.plot(data_points, y_pred, \"k\")\n",
    "plt.xlabel(\"Eruption time (min)\")\n",
    "plt.ylabel(\"Waiting time to next eruption (min)\")\n",
    "plt.legend(loc='upper left')\n",
    "plt.show()"
   ]
  },
  {
   "cell_type": "markdown",
   "id": "40aeace7",
   "metadata": {},
   "source": [
    "RMSE Values"
   ]
  },
  {
   "cell_type": "code",
   "execution_count": 6,
   "id": "39b6122d",
   "metadata": {},
   "outputs": [
    {
     "name": "stdout",
     "output_type": "stream",
     "text": [
      "RMSE on training set is 4.541214189194451 when P is 25\n",
      "RMSE on test set is 6.454083413352087 when P is 25\n"
     ]
    }
   ],
   "source": [
    "RMSE_train = np.sqrt(np.mean((y_train -[prediction(x, is_terminal, node_splits, node_frequencies) for x in X_train]) ** 2))\n",
    "RMSE_test = np.sqrt(np.mean((y_test -[prediction(x, is_terminal, node_splits, node_frequencies) for x in X_test]) ** 2))\n",
    "\n",
    "print(\"RMSE on training set is\", RMSE_train, \"when P is 25\")\n",
    "print(\"RMSE on test set is\", RMSE_test, \"when P is 25\")"
   ]
  },
  {
   "cell_type": "code",
   "execution_count": 7,
   "id": "3316d5d4",
   "metadata": {},
   "outputs": [
    {
     "name": "stderr",
     "output_type": "stream",
     "text": [
      "C:\\Users\\ozlemolcer\\AppData\\Local\\Temp\\ipykernel_5332\\3505434496.py:44: DeprecationWarning: Calling np.sum(generator) is deprecated, and in the future will give a different result. Use np.sum(np.fromiter(generator)) or the python sum builtin instead.\n",
      "  split_scores[s] = (np.sum(((y_train[i] - np.mean(y_train[left_indices])) ** 2) for i in left_indices) +\n",
      "C:\\Users\\ozlemolcer\\AppData\\Local\\Temp\\ipykernel_5332\\3505434496.py:45: DeprecationWarning: Calling np.sum(generator) is deprecated, and in the future will give a different result. Use np.sum(np.fromiter(generator)) or the python sum builtin instead.\n",
      "  np.sum(((y_train[j] - np.mean(y_train[right_indices])) ** 2) for j in right_indices))/len(data_indices)\n"
     ]
    }
   ],
   "source": [
    "prep_set = np.arange(5,55,5)\n",
    "rmse_train_set = np.zeros(len(prep_set))\n",
    "rmse_test_set = np.zeros(len(prep_set))\n",
    "\n",
    "for p in range(len(prep_set)):\n",
    "    is_terminal, node_splits, node_frequencies = learn_dt(prep_set[p])\n",
    "    y_pred_train = [prediction(x, is_terminal, node_splits, node_frequencies) for x in X_train]\n",
    "    y_pred_test = [prediction(x, is_terminal, node_splits, node_frequencies) for x in X_test]\n",
    "    rmse_train_set[p] = np.sqrt(np.mean((y_train - y_pred_train) ** 2))\n",
    "    rmse_test_set[p] = np.sqrt(np.mean((y_test - y_pred_test) ** 2))"
   ]
  },
  {
   "cell_type": "code",
   "execution_count": 8,
   "id": "9d504e23",
   "metadata": {},
   "outputs": [
    {
     "data": {
      "image/png": "[encoded data removed]",
      "text/plain": [
       "<Figure size 720x576 with 1 Axes>"
      ]
     },
     "metadata": {
      "needs_background": "light"
     },
     "output_type": "display_data"
    }
   ],
   "source": [
    "## Plot Training and Test RMSEs together\n",
    "plt.figure(figsize=(10, 8))\n",
    "plt.plot(prep_set, rmse_train_set, \"b.-\", markersize=15, label='training')\n",
    "plt.plot(prep_set, rmse_test_set, \"r.-\", markersize=15, label='test')\n",
    "plt.xlabel(\"Pre-pruning size (P)\")\n",
    "plt.ylabel(\"RMSE\")\n",
    "plt.legend(loc='upper right')\n",
    "plt.show()"
   ]
  },
  {
   "cell_type": "code",
   "execution_count": null,
   "id": "1e85637d",
   "metadata": {},
   "outputs": [],
   "source": []
  }
 ],
 "metadata": {
  "kernelspec": {
   "display_name": "Python 3 (ipykernel)",
   "language": "python",
   "name": "python3"
  },
  "language_info": {
   "codemirror_mode": {
    "name": "ipython",
    "version": 3
   },
   "file_extension": ".py",
   "mimetype": "text/x-python",
   "name": "python",
   "nbconvert_exporter": "python",
   "pygments_lexer": "ipython3",
   "version": "3.9.12"
  }
 },
 "nbformat": 4,
 "nbformat_minor": 5
}
