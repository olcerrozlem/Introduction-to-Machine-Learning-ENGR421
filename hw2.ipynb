{
 "cells": [
  {
   "cell_type": "markdown",
   "id": "d05ac273",
   "metadata": {},
   "source": [
    "# Homework 03\n",
    "## Özlem Ölçer ID: 69217"
   ]
  },
  {
   "cell_type": "code",
   "execution_count": 1,
   "id": "f2be35e0",
   "metadata": {},
   "outputs": [],
   "source": [
    "import matplotlib.pyplot as plt\n",
    "import numpy as np\n",
    "import pandas as pd\n",
    "import scipy.stats as stats\n",
    "\n",
    "def safelog(x):\n",
    "    return(np.log(x + 1e-100))"
   ]
  },
  {
   "cell_type": "code",
   "execution_count": 2,
   "id": "862b3a0f",
   "metadata": {},
   "outputs": [],
   "source": [
    "#read data\n",
    "images = np.genfromtxt('hw02_data_points.csv',delimiter=',')\n",
    "labels = np.char.strip(np.genfromtxt('hw02_class_labels.csv',delimiter=',',dtype=str),'\"').astype(int)\n"
   ]
  },
  {
   "cell_type": "markdown",
   "id": "b8160611",
   "metadata": {},
   "source": [
    "Divide data"
   ]
  },
  {
   "cell_type": "code",
   "execution_count": 3,
   "id": "8c693743",
   "metadata": {},
   "outputs": [],
   "source": [
    "x_train = images[:10000,:]  #training set images\n",
    "y_train = labels[:10000] #training set labels\n",
    "\n",
    "x_test = images[10000:,:]  #test set images\n",
    "y_test = labels[10000:]  #test set labels\n",
    "\n",
    "\n",
    "K = np.amax(y_train) # class size\n",
    "C = x_train.shape[1] # character size\n",
    "N_train = y_train.shape[0] # training set size\n",
    "N_test = y_test.shape[0] # test set size"
   ]
  },
  {
   "cell_type": "code",
   "execution_count": 4,
   "id": "3e43c5be",
   "metadata": {},
   "outputs": [],
   "source": [
    "# Training Set one hot Encoding\n",
    "y_train_onehot = [[0 for k in range(K)] for n in range(N_train)]\n",
    "\n",
    "for n in range(N_train):\n",
    "    y_train_onehot[n][y_train[n]-1] = 1\n",
    "    \n",
    "y_train_onehot = np.array(y_train_onehot)\n",
    "\n",
    "# Test Set one hot Encoding\n",
    "y_test_onehot = [[0 for k in range(K)] for n in range(N_test)]\n",
    "\n",
    "for n in range(N_test):\n",
    "    y_test_onehot[n][y_test[n]-1] = 1\n",
    "    \n",
    "y_test_onehot = np.array(y_test_onehot)"
   ]
  },
  {
   "cell_type": "code",
   "execution_count": 5,
   "id": "98bd04c3",
   "metadata": {},
   "outputs": [],
   "source": [
    "eta = 0.00001\n",
    "iteration_count = 1000"
   ]
  },
  {
   "cell_type": "code",
   "execution_count": 6,
   "id": "30e2dce3",
   "metadata": {},
   "outputs": [],
   "source": [
    "# define the sigmoid function\n",
    "def sigmoid(X, w, w0):\n",
    "    return(1 / (1 + np.exp(-(np.matmul(X, w) + w0))))"
   ]
  },
  {
   "cell_type": "code",
   "execution_count": 7,
   "id": "9a992e00",
   "metadata": {},
   "outputs": [],
   "source": [
    "# define the gradient functions\n",
    "def gradient_w(x, y_truth, y_predicted):\n",
    "    return (np.asarray([-np.matmul((y_truth[:, k] - y_predicted[:, k])  * y_predicted[:, k] * (1 - y_predicted[:, k]), x) for k in range(K)]).transpose())\n",
    "\n",
    "def gradient_w0(y_truth, y_predicted):\n",
    "    return (-np.sum((y_truth - y_predicted) * y_predicted * (1 - y_predicted), axis = 0))"
   ]
  },
  {
   "cell_type": "code",
   "execution_count": 8,
   "id": "45d9b6eb",
   "metadata": {},
   "outputs": [],
   "source": [
    "#initalize w and w0\n",
    "w = np.genfromtxt('hw02_W_initial.csv',delimiter=',')\n",
    "w0 = np.genfromtxt('hw02_w0_initial.csv',delimiter=',').reshape(1, 10)"
   ]
  },
  {
   "cell_type": "markdown",
   "id": "8fa99204",
   "metadata": {},
   "source": [
    "Parameter Estimation"
   ]
  },
  {
   "cell_type": "code",
   "execution_count": 9,
   "id": "b0e308e0",
   "metadata": {},
   "outputs": [
    {
     "name": "stdout",
     "output_type": "stream",
     "text": [
      "w\n",
      "[[-0.01324798 -0.02823844 -0.00326868 ... -0.04877851  0.01212054\n",
      "  -0.01143465]\n",
      " [-0.01183842 -0.03963016 -0.01295336 ... -0.04034705  0.00400381\n",
      "  -0.02111644]\n",
      " [-0.01998825 -0.03633561 -0.00489235 ... -0.04108662  0.01387463\n",
      "  -0.02484677]\n",
      " ...\n",
      " [-0.01341638 -0.0199712  -0.02071762 ... -0.03364511  0.00594223\n",
      "  -0.01845717]\n",
      " [-0.00980747 -0.03218592 -0.02022552 ... -0.03211477  0.01611503\n",
      "  -0.00845905]\n",
      " [-0.01977218 -0.02373074 -0.01468591 ... -0.04159601  0.01068509\n",
      "  -0.02400039]]\n",
      "w0\n",
      "[[-0.01287857 -0.02891159 -0.00873806 -0.03535891 -0.02597275 -0.06542254\n",
      "  -0.01501564 -0.0451543   0.00689065 -0.01964791]]\n"
     ]
    }
   ],
   "source": [
    "# using gradient descent\n",
    "iteration = 1\n",
    "objective_values = []\n",
    "for i in range(iteration_count):\n",
    "    y_predicted = sigmoid(x_train, w, w0)\n",
    "\n",
    "    objective_values = np.append(objective_values, 0.5 * np.sum((y_train_onehot - y_predicted) ** 2))\n",
    "    w_old = w\n",
    "    w0_old = w0\n",
    "\n",
    "    w = w - eta * gradient_w(x_train, y_train_onehot, y_predicted)\n",
    "    w0 = w0 - eta * gradient_w0(y_train_onehot, y_predicted)\n",
    "    iteration = iteration + 1\n",
    "print(\"w\")    \n",
    "print(w)\n",
    "print(\"w0\")\n",
    "print(w0)"
   ]
  },
  {
   "cell_type": "markdown",
   "id": "e5f9ebed",
   "metadata": {},
   "source": [
    "Graph of the objective function values throughout the iterations"
   ]
  },
  {
   "cell_type": "code",
   "execution_count": 10,
   "id": "5c951569",
   "metadata": {},
   "outputs": [
    {
     "data": {
      "image/png": "[encoded data removed]",
      "text/plain": [
       "<Figure size 648x432 with 1 Axes>"
      ]
     },
     "metadata": {
      "needs_background": "light"
     },
     "output_type": "display_data"
    }
   ],
   "source": [
    "plt.figure(figsize = (9, 6))\n",
    "plt.plot(range(1, iteration), objective_values, \"k-\")\n",
    "plt.xlabel(\"Iteration\")\n",
    "plt.ylabel(\"Error\")\n",
    "plt.show()"
   ]
  },
  {
   "cell_type": "markdown",
   "id": "2a71fbac",
   "metadata": {},
   "source": [
    "Training Set Confusion Matrix"
   ]
  },
  {
   "cell_type": "code",
   "execution_count": 11,
   "id": "a9407386",
   "metadata": {},
   "outputs": [],
   "source": [
    "arr = np.array([1,2,3,4,5,6,7,8,9,10])"
   ]
  },
  {
   "cell_type": "code",
   "execution_count": 12,
   "id": "6df07fab",
   "metadata": {},
   "outputs": [
    {
     "name": "stdout",
     "output_type": "stream",
     "text": [
      "y_train   1    2    3    4    5    6    7    8    9    10\n",
      "y_pred                                                   \n",
      "1        838    3   14   44    5    0  220    0    1    0\n",
      "2          4  908    1   17    4    0    3    0    2    0\n",
      "3         14   12  645   14   69    0  133    0    9    1\n",
      "4         89   37    5  870   41    2   55    0   12    2\n",
      "5          2    6  172   28  763    0  123    0    6    0\n",
      "6         16    3   26    5    8  841   30   89   25   33\n",
      "7         27    3   80   28   79    0  423    0   17    0\n",
      "8          0    0    0    0    0  115    1  862    8   43\n",
      "9         18    0    8    5   10   13   34    2  892    0\n",
      "10         1    0    0    1    0   37    0   84    2  957\n"
     ]
    }
   ],
   "source": [
    "y_predicted_max = np.argmax(y_predicted, axis = 1) + 1\n",
    "\n",
    "confusion_matrix = pd.crosstab(y_predicted_max, np.sum(y_train_onehot * arr, axis=1), rownames = ['y_pred'], colnames = ['y_train'])\n",
    "\n",
    "print(confusion_matrix)"
   ]
  },
  {
   "cell_type": "markdown",
   "id": "97509391",
   "metadata": {},
   "source": [
    "Test Set Confusion Matrix"
   ]
  },
  {
   "cell_type": "code",
   "execution_count": 13,
   "id": "711ebb8f",
   "metadata": {},
   "outputs": [
    {
     "name": "stdout",
     "output_type": "stream",
     "text": [
      "y_test   1    2    3    4    5    6    7    8    9    10\n",
      "y_pred                                                  \n",
      "1       397    1   11   22    0    1  129    0    0    0\n",
      "2         4  459    0    8    3    0    1    0    0    0\n",
      "3         7   10  320    6   49    1   52    0    5    0\n",
      "4        51   15    3  443   19    1   31    0   10    0\n",
      "5         2    2   83   14  382    0   58    0    1    0\n",
      "6         9    2   13    2    4  405   12   39   14   18\n",
      "7        14    1   50   11   47    0  218    0    9    0\n",
      "8         1    0    0    0    0   47    0  387    7   27\n",
      "9        16    0   10    1    2    7   18    1  459    0\n",
      "10        1    0    0    0    0   28    0   44    3  472\n"
     ]
    }
   ],
   "source": [
    "y_predicted_test = sigmoid(x_test, w, w0)\n",
    "\n",
    "y_predicted_test_max = np.argmax(y_predicted_test, axis = 1) + 1\n",
    "\n",
    "confusion_matrix = pd.crosstab(y_predicted_test_max, np.sum(y_test_onehot * arr, axis=1), rownames = ['y_pred'], colnames = ['y_test'])\n",
    "print(confusion_matrix)"
   ]
  },
  {
   "cell_type": "code",
   "execution_count": null,
   "id": "4d7ca5a8",
   "metadata": {},
   "outputs": [],
   "source": []
  }
 ],
 "metadata": {
  "kernelspec": {
   "display_name": "Python 3 (ipykernel)",
   "language": "python",
   "name": "python3"
  },
  "language_info": {
   "codemirror_mode": {
    "name": "ipython",
    "version": 3
   },
   "file_extension": ".py",
   "mimetype": "text/x-python",
   "name": "python",
   "nbconvert_exporter": "python",
   "pygments_lexer": "ipython3",
   "version": "3.9.12"
  }
 },
 "nbformat": 4,
 "nbformat_minor": 5
}
