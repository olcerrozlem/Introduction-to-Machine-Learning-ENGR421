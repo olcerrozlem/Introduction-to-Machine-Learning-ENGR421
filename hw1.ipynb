{
 "cells": [
  {
   "cell_type": "markdown",
   "id": "adb8b785",
   "metadata": {},
   "source": [
    "# Özlem Ölçer ID: 0069217 ENGR421-HW1"
   ]
  },
  {
   "cell_type": "code",
   "execution_count": 1,
   "id": "4959cc50",
   "metadata": {},
   "outputs": [],
   "source": [
    "import math\n",
    "import matplotlib.pyplot as plt\n",
    "import numpy as np\n",
    "import scipy.stats as stats\n",
    "import scipy.linalg as linalg\n",
    "import pandas as pd\n",
    "\n",
    "\n",
    "def safelog(x):\n",
    "    return(np.log(x + 1e-100))"
   ]
  },
  {
   "cell_type": "code",
   "execution_count": 2,
   "id": "ba439f70",
   "metadata": {},
   "outputs": [],
   "source": [
    "class_labels = np.genfromtxt(\"hw01_class_labels.csv\")\n",
    "data_points = np.char.strip(np.genfromtxt('hw01_data_points.csv',delimiter=',',dtype=str))"
   ]
  },
  {
   "cell_type": "markdown",
   "id": "c8652e55",
   "metadata": {},
   "source": [
    "Creating training and test sets"
   ]
  },
  {
   "cell_type": "code",
   "execution_count": 3,
   "id": "eb3566be",
   "metadata": {},
   "outputs": [
    {
     "name": "stdout",
     "output_type": "stream",
     "text": [
      "[['C' 'A' 'G' ... 'T' 'G' 'G']\n",
      " ['G' 'A' 'C' ... 'C' 'C' 'T']\n",
      " ['T' 'T' 'T' ... 'A' 'C' 'T']\n",
      " ...\n",
      " ['C' 'T' 'G' ... 'A' 'G' 'T']\n",
      " ['C' 'A' 'G' ... 'T' 'G' 'T']\n",
      " ['T' 'C' 'C' ... 'T' 'T' 'G']]\n"
     ]
    }
   ],
   "source": [
    "x_train = data_points[:300,:] #training set data points\n",
    "y_train = class_labels[:300]  #training set labels\n",
    "\n",
    "x_test = data_points[300:,:] #test set data points\n",
    "y_test = class_labels[300:]  #test set labels\n",
    "\n",
    "print(x_train\n",
    "     )"
   ]
  },
  {
   "cell_type": "raw",
   "id": "9f1d910c",
   "metadata": {},
   "source": [
    "pAcd = probability of having adenine (A) for class c at location d,\n",
    "pCcd = probability of having cytosine (C) for class c at location d,\n",
    "pGcd = probability of having guanine (G) for class c at location d,\n",
    "pTcd = probability of having thymine (T) for class c at location d."
   ]
  },
  {
   "cell_type": "code",
   "execution_count": 4,
   "id": "364f1542",
   "metadata": {},
   "outputs": [],
   "source": [
    "# class size\n",
    "K = int(np.amax(y_train))\n",
    "\n",
    "# character size\n",
    "C = x_train.shape[1]\n",
    "\n",
    "# training set size\n",
    "N_train = y_train.shape[0]\n",
    "\n",
    "# test set size\n",
    "N_test = y_test.shape[0]\n"
   ]
  },
  {
   "cell_type": "markdown",
   "id": "e69562c9",
   "metadata": {},
   "source": [
    "Estimating model parameters"
   ]
  },
  {
   "cell_type": "code",
   "execution_count": 5,
   "id": "6faf0fde",
   "metadata": {},
   "outputs": [],
   "source": [
    "def pcd_fun(pcd,letter):\n",
    "    for k in range(K):\n",
    "        for c in range(C):\n",
    "            base_total = 0\n",
    "            for n in range(N_train):\n",
    "                if(x_train[n][c] == letter):\n",
    "                    if (y_train[n] == (k + 1)):\n",
    "                        base_total = base_total + 1      \n",
    "            pcd[k][c] = round((base_total / x_train[y_train==(k+1)].shape[0]),8)\n",
    "    return pcd"
   ]
  },
  {
   "cell_type": "code",
   "execution_count": 6,
   "id": "9ac6d1eb",
   "metadata": {},
   "outputs": [],
   "source": [
    "def pcd_fun_test(pcd,letter):\n",
    "    for k in range(K):\n",
    "        for c in range(C):\n",
    "            base_total = 0\n",
    "            for n in range(N_test):\n",
    "                if(x_test[n][c] == letter):\n",
    "                    if (y_test[n] == (k + 1)):\n",
    "                        base_total = base_total + 1      \n",
    "            pcd[k][c] = round((base_total / x_test[y_test==(k+1)].shape[0]),8)\n",
    "    return pcd"
   ]
  },
  {
   "cell_type": "code",
   "execution_count": 7,
   "id": "8d377877",
   "metadata": {},
   "outputs": [
    {
     "name": "stdout",
     "output_type": "stream",
     "text": [
      "[[0.28, 0.68, 0.09333333, 0.56666667, 0.68, 0.14, 0.19333333], [0.22666667, 0.24, 0.26666667, 0.18666667, 0.20666667, 0.18, 0.26]]\n",
      "\n",
      "[[0.4, 0.08666667, 0.01333333, 0.02, 0.12, 0.06, 0.08], [0.16, 0.23333333, 0.09333333, 0.17333333, 0.21333333, 0.26666667, 0.19333333]]\n",
      "\n",
      "[[0.21333333, 0.09333333, 0.82666667, 0.35333333, 0.1, 0.76, 0.20666667], [0.29333333, 0.27333333, 0.22666667, 0.36, 0.2, 0.23333333, 0.2]]\n",
      "\n",
      "[[0.10666667, 0.14, 0.06666667, 0.06, 0.1, 0.04, 0.52], [0.32, 0.25333333, 0.41333333, 0.28, 0.38, 0.32, 0.34666667]]\n",
      "\n",
      "[0.5 0.5]\n"
     ]
    }
   ],
   "source": [
    "pAcd = [[0 for c in range(C)] for k in range(K)]\n",
    "pCcd = [[0 for c in range(C)] for k in range(K)]\n",
    "pGcd = [[0 for c in range(C)] for k in range(K)]\n",
    "pTcd = [[0 for c in range(C)] for k in range(K)]\n",
    "class_priors = []\n",
    "\n",
    "pAcd = pcd_fun(pAcd,'A')\n",
    "pCcd = pcd_fun(pCcd,'C')\n",
    "pGcd = pcd_fun(pGcd,'G')\n",
    "pTcd = pcd_fun(pTcd,'T')\n",
    "\n",
    "class_priors = np.array([np.mean(y_train == (c + 1)) for c in range(K)])\n",
    "\n",
    "print(pAcd)\n",
    "print(\"\")\n",
    "print(pCcd)\n",
    "print(\"\")\n",
    "print(pGcd)\n",
    "print(\"\")\n",
    "print(pTcd)\n",
    "print(\"\")\n",
    "print(class_priors)"
   ]
  },
  {
   "cell_type": "code",
   "execution_count": 8,
   "id": "b402a7dc",
   "metadata": {},
   "outputs": [],
   "source": [
    "pAcd_test = [[0 for c in range(C)] for k in range(K)]\n",
    "pCcd_test = [[0 for c in range(C)] for k in range(K)]\n",
    "pGcd_test = [[0 for c in range(C)] for k in range(K)]\n",
    "pTcd_test = [[0 for c in range(C)] for k in range(K)]\n",
    "\n",
    "\n",
    "pAcd_test = pcd_fun_test(pAcd_test,'A')\n",
    "pCcd_test = pcd_fun_test(pCcd_test,'C')\n",
    "pGcd_test = pcd_fun_test(pGcd_test,'G')\n",
    "pTcd_test = pcd_fun_test(pTcd_test,'T')\n"
   ]
  },
  {
   "cell_type": "markdown",
   "id": "6c2bef36",
   "metadata": {},
   "source": [
    "Confurison Matrix for Training Set"
   ]
  },
  {
   "cell_type": "code",
   "execution_count": 9,
   "id": "371c6d7c",
   "metadata": {},
   "outputs": [],
   "source": [
    "def score_func(dt):\n",
    "    score_result = []\n",
    "    for c in range(K):\n",
    "        ivd = 1\n",
    "        result = []\n",
    "        for i in range(dt.shape[0]):\n",
    "            for j in range(C):  \n",
    "                if(dt[i][j] == 'A'):\n",
    "                    ivd += safelog(pAcd[c][j])\n",
    "                elif (dt[i][j]  == 'G'):\n",
    "                    ivd += safelog(pGcd[c][j])\n",
    "                elif (dt[i][j]  == 'C'):\n",
    "                    ivd += safelog(pCcd[c][j])\n",
    "                elif (dt[i][j]  == 'T'):\n",
    "                    ivd += safelog(pTcd[c][j])\n",
    "            ivd += safelog(class_priors[c])\n",
    "            result.append(ivd)\n",
    "            ivd = 1\n",
    "        score_result.append(result)\n",
    "    return score_result\n"
   ]
  },
  {
   "cell_type": "code",
   "execution_count": 10,
   "id": "0c061b0d",
   "metadata": {},
   "outputs": [],
   "source": [
    "train_scores = []\n",
    "score_list = score_func(x_train)\n",
    "for i in range(len(score_list[0])):\n",
    "        if(score_list[0][i] > score_list[1][i]):\n",
    "            train_scores.append(1)\n",
    "        else:\n",
    "            train_scores.append(2)"
   ]
  },
  {
   "cell_type": "code",
   "execution_count": 11,
   "id": "53edac4a",
   "metadata": {},
   "outputs": [],
   "source": [
    "test_scores = []\n",
    "score_list = score_func(x_test)\n",
    "for i in range(len(score_list[0])):\n",
    "        if(score_list[0][i] > score_list[1][i]):\n",
    "            test_scores.append(1)\n",
    "        else:\n",
    "            test_scores.append(2)"
   ]
  },
  {
   "cell_type": "code",
   "execution_count": 12,
   "id": "ce6cee95",
   "metadata": {},
   "outputs": [
    {
     "name": "stdout",
     "output_type": "stream",
     "text": [
      "confusion_train\n",
      "\n",
      "y_truth  1.0  2.0\n",
      "y_pred           \n",
      "1        145   14\n",
      "2          5  136\n"
     ]
    }
   ],
   "source": [
    "confusion_matrix_train = pd.crosstab(train_scores, y_train, \n",
    "                               rownames = [\"y_pred\"], \n",
    "                               colnames = [\"y_truth\"])\n",
    "print(\"confusion_train\")\n",
    "print()\n",
    "print(confusion_matrix_train)"
   ]
  },
  {
   "cell_type": "code",
   "execution_count": 13,
   "id": "ddb974cb",
   "metadata": {},
   "outputs": [
    {
     "name": "stdout",
     "output_type": "stream",
     "text": [
      "confusion_test\n",
      "\n",
      "y_truth  1.0  2.0\n",
      "y_pred           \n",
      "1         48    8\n",
      "2          2   42\n"
     ]
    }
   ],
   "source": [
    "confusion_matrix_test = pd.crosstab(test_scores, y_test, \n",
    "                               rownames = [\"y_pred\"], \n",
    "                               colnames = [\"y_truth\"])\n",
    "print(\"confusion_test\")\n",
    "print()\n",
    "print(confusion_matrix_test)"
   ]
  },
  {
   "cell_type": "code",
   "execution_count": null,
   "id": "66e94908",
   "metadata": {},
   "outputs": [],
   "source": []
  }
 ],
 "metadata": {
  "kernelspec": {
   "display_name": "Python 3 (ipykernel)",
   "language": "python",
   "name": "python3"
  },
  "language_info": {
   "codemirror_mode": {
    "name": "ipython",
    "version": 3
   },
   "file_extension": ".py",
   "mimetype": "text/x-python",
   "name": "python",
   "nbconvert_exporter": "python",
   "pygments_lexer": "ipython3",
   "version": "3.9.12"
  }
 },
 "nbformat": 4,
 "nbformat_minor": 5
}
